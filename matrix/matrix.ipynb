{
 "cells": [
  {
   "cell_type": "code",
   "execution_count": 1,
   "id": "26f8a6ed-745d-4b02-819e-5b9da579da1a",
   "metadata": {},
   "outputs": [
    {
     "name": "stdout",
     "output_type": "stream",
     "text": [
      "\n",
      "ARRAY 1 Elements : \n"
     ]
    },
    {
     "name": "stdin",
     "output_type": "stream",
     "text": [
      " 1 2 3\n"
     ]
    },
    {
     "name": "stdout",
     "output_type": "stream",
     "text": [
      "\n",
      "ARRAY 1 ,  ROW COLUMN : \n"
     ]
    },
    {
     "name": "stdin",
     "output_type": "stream",
     "text": [
      " 2 3\n"
     ]
    },
    {
     "name": "stdout",
     "output_type": "stream",
     "text": [
      "\n",
      "Row and Column size not match with total elements !! retry\n",
      "\n",
      "ARRAY 1 Elements : \n"
     ]
    },
    {
     "name": "stdin",
     "output_type": "stream",
     "text": [
      " 3 4 5 5\n"
     ]
    },
    {
     "name": "stdout",
     "output_type": "stream",
     "text": [
      "\n",
      "ARRAY 1 ,  ROW COLUMN : \n"
     ]
    },
    {
     "name": "stdin",
     "output_type": "stream",
     "text": [
      " 2 2\n"
     ]
    },
    {
     "name": "stdout",
     "output_type": "stream",
     "text": [
      "\n",
      "ARRAY 1\n",
      "[[3 4]\n",
      " [5 5]]\n",
      "\n",
      "ARRAY 2 Elements : \n"
     ]
    },
    {
     "name": "stdin",
     "output_type": "stream",
     "text": [
      " 4 5 6 7\n"
     ]
    },
    {
     "name": "stdout",
     "output_type": "stream",
     "text": [
      "\n",
      "ARRAY 2 ,  ROW COLUMN : \n"
     ]
    },
    {
     "name": "stdin",
     "output_type": "stream",
     "text": [
      " 2 2\n"
     ]
    },
    {
     "name": "stdout",
     "output_type": "stream",
     "text": [
      "\n",
      "ARRAY 2\n",
      "[[4 5]\n",
      " [6 7]]\n",
      "\n",
      "Dot product\n",
      "[[36 43]\n",
      " [50 60]]\n"
     ]
    }
   ],
   "source": [
    "#1\n",
    "\n",
    "import numpy as np \n",
    "\n",
    "def create_matrix(mc):\n",
    "    print(\"\\nARRAY \"+str(mc)+\" Elements : \")\n",
    "    array_1 = map(int, input().split())\n",
    "    array_1 = np.array(list(array_1))\n",
    "    #print(arr)\n",
    "    print(\"\\nARRAY \"+str(mc)+\" ,  ROW COLUMN : \")\n",
    "    row,column = map(int, input().split())\n",
    "    if(len(array_1)!= (row*column)):\n",
    "        print(\"\\nRow and Column size not match with total elements !! retry\")\n",
    "        return create_matrix(mc)\n",
    "    array_1 = array_1.reshape(row,column)\n",
    "    print(\"\\nARRAY \"+str(mc))\n",
    "    print(array_1)\n",
    "    return array_1\n",
    "\n",
    "\n",
    "arr1 = create_matrix(1)\n",
    "arr2 = create_matrix(2)\n",
    "\n",
    "if(arr1.shape == arr2.shape):\n",
    "    print(\"\\nDot product\")\n",
    "    print(np.dot(arr1,arr2))\n",
    "else:\n",
    "    print(\"\\nDimensions not matching!\")\n"
   ]
  },
  {
   "cell_type": "code",
   "execution_count": 2,
   "id": "7dc626ff-9b9a-4160-b795-5ec773889b33",
   "metadata": {},
   "outputs": [
    {
     "name": "stdout",
     "output_type": "stream",
     "text": [
      "\n",
      "ARRAY 1 Elements : \n"
     ]
    },
    {
     "name": "stdin",
     "output_type": "stream",
     "text": [
      " 2 3 5 6 7 8  9  8\n"
     ]
    },
    {
     "name": "stdout",
     "output_type": "stream",
     "text": [
      "\n",
      "ARRAY 1 ,  ROW COLUMN : \n"
     ]
    },
    {
     "name": "stdin",
     "output_type": "stream",
     "text": [
      " 2 4 \n"
     ]
    },
    {
     "name": "stdout",
     "output_type": "stream",
     "text": [
      "\n",
      "ARRAY 1\n",
      "[[2 3 5 6]\n",
      " [7 8 9 8]]\n",
      "\n",
      "Transpose : \n",
      "[[2 7]\n",
      " [3 8]\n",
      " [5 9]\n",
      " [6 8]]\n"
     ]
    }
   ],
   "source": [
    "#2\n",
    "\n",
    "import numpy as np \n",
    "\n",
    "def create_matrix(mc):\n",
    "    print(\"\\nARRAY \"+str(mc)+\" Elements : \")\n",
    "    array_1 = map(int, input().split())\n",
    "    array_1 = np.array(list(array_1))\n",
    "    #print(arr)\n",
    "    print(\"\\nARRAY \"+str(mc)+\" ,  ROW COLUMN : \")\n",
    "    row,column = map(int, input().split())\n",
    "    if(len(array_1)!= (row*column)):\n",
    "        print(\"\\nRow and Column size not match with total elements !! retry\")\n",
    "        return create_matrix(mc)\n",
    "    array_1 = array_1.reshape(row,column)\n",
    "    print(\"\\nARRAY \"+str(mc))\n",
    "    print(array_1)\n",
    "    print(\"\\nTranspose : \")\n",
    "    return array_1\n",
    "\n",
    "\n",
    "\n",
    "print(create_matrix(1).transpose())"
   ]
  },
  {
   "cell_type": "code",
   "execution_count": 3,
   "id": "7676fbfd-5f0d-48e1-ab06-ce8483595f26",
   "metadata": {},
   "outputs": [
    {
     "name": "stdout",
     "output_type": "stream",
     "text": [
      "\n",
      "ARRAY 1 Elements : \n"
     ]
    },
    {
     "name": "stdin",
     "output_type": "stream",
     "text": [
      " 4 5 6 7 8 7\n"
     ]
    },
    {
     "name": "stdout",
     "output_type": "stream",
     "text": [
      "\n",
      "ARRAY 1 ,  ROW COLUMN : \n"
     ]
    },
    {
     "name": "stdin",
     "output_type": "stream",
     "text": [
      " 2 3\n"
     ]
    },
    {
     "name": "stdout",
     "output_type": "stream",
     "text": [
      "\n",
      "ARRAY 1\n",
      "[[4 5 6]\n",
      " [7 8 7]]\n",
      "\n",
      "Trase : \n",
      "12\n"
     ]
    }
   ],
   "source": [
    "#3\n",
    "\n",
    "import numpy as np \n",
    "\n",
    "def create_matrix(mc):\n",
    "    print(\"\\nARRAY \"+str(mc)+\" Elements : \")\n",
    "    array_1 = map(int, input().split())\n",
    "    array_1 = np.array(list(array_1))\n",
    "    #print(arr)\n",
    "    print(\"\\nARRAY \"+str(mc)+\" ,  ROW COLUMN : \")\n",
    "    row,column = map(int, input().split())\n",
    "    if(len(array_1)!= (row*column)):\n",
    "        print(\"\\nRow and Column size not match with total elements !! retry\")\n",
    "        return create_matrix(mc)\n",
    "    array_1 = array_1.reshape(row,column)\n",
    "    print(\"\\nARRAY \"+str(mc))\n",
    "    print(array_1)\n",
    "    print(\"\\nTrase : \")\n",
    "    return array_1\n",
    "\n",
    "\n",
    "\n",
    "print(create_matrix(1).trace())"
   ]
  },
  {
   "cell_type": "code",
   "execution_count": 4,
   "id": "b5228bc2-7630-4f12-849b-d32eccad3d82",
   "metadata": {},
   "outputs": [
    {
     "name": "stdout",
     "output_type": "stream",
     "text": [
      "\n",
      "ARRAY 1 Elements : \n"
     ]
    },
    {
     "name": "stdin",
     "output_type": "stream",
     "text": [
      " 4 6 3 8\n"
     ]
    },
    {
     "name": "stdout",
     "output_type": "stream",
     "text": [
      "\n",
      "ARRAY 1 ,  ROW COLUMN : \n"
     ]
    },
    {
     "name": "stdin",
     "output_type": "stream",
     "text": [
      " 2 2 \n"
     ]
    },
    {
     "name": "stdout",
     "output_type": "stream",
     "text": [
      "\n",
      "ARRAY 1\n",
      "[[4 6]\n",
      " [3 8]]\n",
      "\n",
      "Rank : \n",
      "2\n"
     ]
    }
   ],
   "source": [
    "#4\n",
    "\n",
    "import numpy as np \n",
    "\n",
    "def create_matrix(mc):\n",
    "    print(\"\\nARRAY \"+str(mc)+\" Elements : \")\n",
    "    array_1 = map(int, input().split())\n",
    "    array_1 = np.array(list(array_1))\n",
    "    #print(arr)\n",
    "    print(\"\\nARRAY \"+str(mc)+\" ,  ROW COLUMN : \")\n",
    "    row,column = map(int, input().split())\n",
    "    if(len(array_1)!= (row*column)):\n",
    "        print(\"\\nRow and Column size not match with total elements !! retry\")\n",
    "        return create_matrix(mc)\n",
    "    array_1 = array_1.reshape(row,column)\n",
    "    print(\"\\nARRAY \"+str(mc))\n",
    "    print(array_1)\n",
    "    print(\"\\nRank : \")\n",
    "    return array_1\n",
    "\n",
    "\n",
    "\n",
    "print(np.linalg.matrix_rank(create_matrix(1)))\n"
   ]
  },
  {
   "cell_type": "code",
   "execution_count": 5,
   "id": "6e446925-c37d-416e-8e55-991fcc0b79e4",
   "metadata": {},
   "outputs": [
    {
     "name": "stdout",
     "output_type": "stream",
     "text": [
      "\n",
      "ARRAY 1 Elements : \n"
     ]
    },
    {
     "name": "stdin",
     "output_type": "stream",
     "text": [
      " 3 5 6 1\n"
     ]
    },
    {
     "name": "stdout",
     "output_type": "stream",
     "text": [
      "\n",
      "ARRAY 1 ,  ROW COLUMN : \n"
     ]
    },
    {
     "name": "stdin",
     "output_type": "stream",
     "text": [
      " 2 2 \n"
     ]
    },
    {
     "name": "stdout",
     "output_type": "stream",
     "text": [
      "\n",
      "ARRAY 1\n",
      "[[3 5]\n",
      " [6 1]]\n",
      "\n",
      "Determinant : \n",
      "-27.0\n"
     ]
    }
   ],
   "source": [
    "#5\n",
    "\n",
    "import numpy as np \n",
    "\n",
    "def create_matrix(mc):\n",
    "    print(\"\\nARRAY \"+str(mc)+\" Elements : \")\n",
    "    array_1 = map(int, input().split())\n",
    "    array_1 = np.array(list(array_1))\n",
    "    #print(arr)\n",
    "    print(\"\\nARRAY \"+str(mc)+\" ,  ROW COLUMN : \")\n",
    "    row,column = map(int, input().split())\n",
    "    if(len(array_1)!= (row*column)):\n",
    "        print(\"\\nRow and Column size not match with total elements !! retry\")\n",
    "        return create_matrix(mc)\n",
    "    array_1 = array_1.reshape(row,column)\n",
    "    print(\"\\nARRAY \"+str(mc))\n",
    "    print(array_1)\n",
    "    print(\"\\nDeterminant : \")\n",
    "    return array_1\n",
    "\n",
    "\n",
    "\n",
    "print(np.linalg.det(create_matrix(1)))\n"
   ]
  },
  {
   "cell_type": "code",
   "execution_count": 6,
   "id": "c3ad0700-094b-479d-a2d2-4d104ebe2db0",
   "metadata": {},
   "outputs": [
    {
     "name": "stdout",
     "output_type": "stream",
     "text": [
      "\n",
      "ARRAY 1 Elements : \n"
     ]
    },
    {
     "name": "stdin",
     "output_type": "stream",
     "text": [
      " 4 5 6 1\n"
     ]
    },
    {
     "name": "stdout",
     "output_type": "stream",
     "text": [
      "\n",
      "ARRAY 1 ,  ROW COLUMN : \n"
     ]
    },
    {
     "name": "stdin",
     "output_type": "stream",
     "text": [
      " 2 2\n"
     ]
    },
    {
     "name": "stdout",
     "output_type": "stream",
     "text": [
      "\n",
      "ARRAY 1\n",
      "[[4 5]\n",
      " [6 1]]\n",
      "\n",
      "Inverse : \n",
      "[[-0.03846154  0.19230769]\n",
      " [ 0.23076923 -0.15384615]]\n"
     ]
    }
   ],
   "source": [
    "#6\n",
    "\n",
    "import numpy as np \n",
    "\n",
    "def create_matrix(mc):\n",
    "    print(\"\\nARRAY \"+str(mc)+\" Elements : \")\n",
    "    array_1 = map(int, input().split())\n",
    "    array_1 = np.array(list(array_1))\n",
    "    #print(arr)\n",
    "    print(\"\\nARRAY \"+str(mc)+\" ,  ROW COLUMN : \")\n",
    "    row,column = map(int, input().split())\n",
    "    if(len(array_1)!= (row*column)):\n",
    "        print(\"\\nRow and Column size not match with total elements !! retry\")\n",
    "        return create_matrix(mc)\n",
    "    array_1 = array_1.reshape(row,column)\n",
    "    print(\"\\nARRAY \"+str(mc))\n",
    "    print(array_1)\n",
    "    print(\"\\nInverse : \")\n",
    "    return array_1\n",
    "\n",
    "\n",
    "\n",
    "print(np.linalg.inv(create_matrix(1)))\n"
   ]
  },
  {
   "cell_type": "code",
   "execution_count": 7,
   "id": "5b42fca6-f023-4cab-ba1b-cb25ce2e7143",
   "metadata": {},
   "outputs": [
    {
     "name": "stdout",
     "output_type": "stream",
     "text": [
      "\n",
      "ARRAY 1 Elements : \n"
     ]
    },
    {
     "name": "stdin",
     "output_type": "stream",
     "text": [
      " 3 2 4 1\n"
     ]
    },
    {
     "name": "stdout",
     "output_type": "stream",
     "text": [
      "\n",
      "ARRAY 1 ,  ROW COLUMN : \n"
     ]
    },
    {
     "name": "stdin",
     "output_type": "stream",
     "text": [
      " 2 2\n"
     ]
    },
    {
     "name": "stdout",
     "output_type": "stream",
     "text": [
      "\n",
      "ARRAY 1\n",
      "[[3 2]\n",
      " [4 1]]\n",
      "\n",
      "E-value : \n",
      "[ 5. -1.]\n",
      "\n",
      "E-vector : \n",
      "[[ 0.70710678 -0.4472136 ]\n",
      " [ 0.70710678  0.89442719]]\n"
     ]
    }
   ],
   "source": [
    "#7\n",
    "\n",
    "import numpy as np \n",
    "\n",
    "def create_matrix(mc):\n",
    "    print(\"\\nARRAY \"+str(mc)+\" Elements : \")\n",
    "    array_1 = map(int, input().split())\n",
    "    array_1 = np.array(list(array_1))\n",
    "    #print(arr)\n",
    "    print(\"\\nARRAY \"+str(mc)+\" ,  ROW COLUMN : \")\n",
    "    row,column = map(int, input().split())\n",
    "    if(len(array_1)!= (row*column)):\n",
    "        print(\"\\nRow and Column size not match with total elements !! retry\")\n",
    "        return create_matrix(mc)\n",
    "    array_1 = array_1.reshape(row,column)\n",
    "    print(\"\\nARRAY \"+str(mc))\n",
    "    print(array_1)\n",
    "    return array_1\n",
    "\n",
    "\n",
    "\n",
    "x,y = np.linalg.eig(create_matrix(1))\n",
    "\n",
    "print(\"\\nE-value : \")\n",
    "print(x)\n",
    "print(\"\\nE-vector : \")\n",
    "print(y)\n"
   ]
  },
  {
   "cell_type": "code",
   "execution_count": null,
   "id": "758d4317-9dda-495b-8fdc-8818507779a7",
   "metadata": {},
   "outputs": [],
   "source": []
  }
 ],
 "metadata": {
  "kernelspec": {
   "display_name": "Python 3",
   "language": "python",
   "name": "python3"
  },
  "language_info": {
   "codemirror_mode": {
    "name": "ipython",
    "version": 3
   },
   "file_extension": ".py",
   "mimetype": "text/x-python",
   "name": "python",
   "nbconvert_exporter": "python",
   "pygments_lexer": "ipython3",
   "version": "3.8.8"
  }
 },
 "nbformat": 4,
 "nbformat_minor": 5
}
