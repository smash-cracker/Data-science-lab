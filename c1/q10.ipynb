{
 "cells": [
  {
   "cell_type": "code",
   "execution_count": 2,
   "id": "41a7286a",
   "metadata": {},
   "outputs": [
    {
     "name": "stdout",
     "output_type": "stream",
     "text": [
      "array1 :\n",
      "[[5 3 2]\n",
      " [6 3 8]]\n",
      "array2 :\n",
      "[[6 8 3]\n",
      " [5 7 1]]\n",
      "result\n",
      "[[30 24  6]\n",
      " [30 21  8]]\n"
     ]
    }
   ],
   "source": [
    "import numpy as np\n",
    "mat1_53=np.array([[5,3,2],[6,3,8]])\n",
    "mat2_53=np.array([[6,8,3],[5,7,1]])\n",
    "print(\"array1 :\")\n",
    "print(mat1_53)\n",
    "print(\"array2 :\")\n",
    "print(mat2_53)\n",
    "print(\"result\")\n",
    "print(np.multiply(mat1_53,mat2_53))"
   ]
  },
  {
   "cell_type": "code",
   "execution_count": null,
   "id": "c644f9fd",
   "metadata": {},
   "outputs": [],
   "source": []
  },
  {
   "cell_type": "code",
   "execution_count": null,
   "id": "fe6e6677",
   "metadata": {},
   "outputs": [],
   "source": []
  }
 ],
 "metadata": {
  "kernelspec": {
   "display_name": "Python 3 (ipykernel)",
   "language": "python",
   "name": "python3"
  },
  "language_info": {
   "codemirror_mode": {
    "name": "ipython",
    "version": 3
   },
   "file_extension": ".py",
   "mimetype": "text/x-python",
   "name": "python",
   "nbconvert_exporter": "python",
   "pygments_lexer": "ipython3",
   "version": "3.9.12"
  }
 },
 "nbformat": 4,
 "nbformat_minor": 5
}
