{
 "cells": [
  {
   "cell_type": "code",
   "execution_count": 3,
   "id": "7430ab14",
   "metadata": {},
   "outputs": [
    {
     "name": "stdout",
     "output_type": "stream",
     "text": [
      "Original array:\n",
      "[[4 7]\n",
      " [5 6]]\n",
      "Sum of all elements:\n",
      "22\n",
      "Sum of each column:\n",
      "[ 9 13]\n",
      "Sum of each row:\n",
      "[11 11]\n"
     ]
    }
   ],
   "source": [
    "import numpy as np\n",
    "mat53 = np.array([[4,7],[5,6]])\n",
    "print(\"Original array:\")\n",
    "print(mat53)\n",
    "print(\"Sum of all elements:\")\n",
    "print(np.sum(mat53))\n",
    "print(\"Sum of each column:\")\n",
    "print(np.sum(mat53, axis=0))\n",
    "print(\"Sum of each row:\")\n",
    "print(np.sum(mat53, axis=1))\n"
   ]
  },
  {
   "cell_type": "code",
   "execution_count": null,
   "id": "eaa7e854",
   "metadata": {},
   "outputs": [],
   "source": []
  },
  {
   "cell_type": "code",
   "execution_count": null,
   "id": "21983d87",
   "metadata": {},
   "outputs": [],
   "source": []
  },
  {
   "cell_type": "code",
   "execution_count": null,
   "id": "ccdcefa2",
   "metadata": {},
   "outputs": [],
   "source": []
  }
 ],
 "metadata": {
  "kernelspec": {
   "display_name": "Python 3 (ipykernel)",
   "language": "python",
   "name": "python3"
  },
  "language_info": {
   "codemirror_mode": {
    "name": "ipython",
    "version": 3
   },
   "file_extension": ".py",
   "mimetype": "text/x-python",
   "name": "python",
   "nbconvert_exporter": "python",
   "pygments_lexer": "ipython3",
   "version": "3.9.12"
  }
 },
 "nbformat": 4,
 "nbformat_minor": 5
}
