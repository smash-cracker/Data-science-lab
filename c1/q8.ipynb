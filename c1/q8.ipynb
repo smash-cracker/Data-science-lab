{
 "cells": [
  {
   "cell_type": "code",
   "execution_count": 3,
   "id": "4850432e",
   "metadata": {},
   "outputs": [
    {
     "name": "stdout",
     "output_type": "stream",
     "text": [
      "\n",
      "Original arrays:\n",
      "[0.5  1.5  0.23]\n",
      "[0.49      1.5444444 0.23     ]\n",
      "\n",
      " Two arrays are equal or not:?\n",
      "[False False  True]\n"
     ]
    }
   ],
   "source": [
    "import numpy as np\n",
    "arr1_53 = np.array([0.5, 1.5, 0.23])\n",
    "arr2_53 = np.array([0.49, 1.5444444, 0.23])\n",
    "print(\"\\nOriginal arrays:\")\n",
    "np.set_printoptions(precision=10)\n",
    "print(arr1_53)\n",
    "print(arr2_53)\n",
    "print(\"\\n Two arrays are equal or not:?\")\n",
    "print(np.equal(arr1_53, arr2_53))"
   ]
  },
  {
   "cell_type": "code",
   "execution_count": null,
   "id": "ed00e23b",
   "metadata": {},
   "outputs": [],
   "source": []
  }
 ],
 "metadata": {
  "kernelspec": {
   "display_name": "Python 3 (ipykernel)",
   "language": "python",
   "name": "python3"
  },
  "language_info": {
   "codemirror_mode": {
    "name": "ipython",
    "version": 3
   },
   "file_extension": ".py",
   "mimetype": "text/x-python",
   "name": "python",
   "nbconvert_exporter": "python",
   "pygments_lexer": "ipython3",
   "version": "3.9.12"
  }
 },
 "nbformat": 4,
 "nbformat_minor": 5
}
